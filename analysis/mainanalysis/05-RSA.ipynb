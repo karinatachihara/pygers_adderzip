{
 "cells": [
  {
   "cell_type": "code",
   "execution_count": 1,
   "id": "67e44535",
   "metadata": {},
   "outputs": [],
   "source": [
    "sub_list = ['005','006','007','008','009','010','011','012','013','015','017','018','020','022','023','024']\n",
    "task_list = ['localizer','imagine']\n",
    "mask_list=['bilateral_hippo','bilateral_oc-temp']"
   ]
  },
  {
   "cell_type": "code",
   "execution_count": 10,
   "id": "934b5b69",
   "metadata": {},
   "outputs": [
    {
     "data": {
      "application/javascript": [
       "IPython.notebook.set_autosave_interval(5000)"
      ]
     },
     "metadata": {},
     "output_type": "display_data"
    },
    {
     "name": "stdout",
     "output_type": "stream",
     "text": [
      "Autosaving every 5 seconds\n"
     ]
    }
   ],
   "source": [
    "import warnings\n",
    "import sys \n",
    "if not sys.warnoptions:\n",
    "    warnings.simplefilter(\"ignore\")\n",
    "import numpy as np\n",
    "import nibabel as nib\n",
    "import nilearn\n",
    "from nilearn.input_data import NiftiMasker,  MultiNiftiMasker\n",
    "from nilearn.masking import intersect_masks\n",
    "from nilearn import image\n",
    "from nilearn import plotting\n",
    "from nilearn.plotting import plot_roi\n",
    "from scipy import stats\n",
    "from sklearn import preprocessing\n",
    "import matplotlib.pyplot as plt \n",
    "import scipy.io\n",
    "#from mpi4py import MPI\n",
    "import os\n",
    "import pickle \n",
    "import time\n",
    "from scipy.sparse import random\n",
    "from scipy.stats import zscore\n",
    "from scipy.stats.stats import pearsonr   \n",
    "from scipy.spatial.distance import euclidean\n",
    "from pathlib import Path\n",
    "from shutil import copyfile\n",
    "import seaborn as sns\n",
    "import importlib\n",
    "import csv\n",
    "\n",
    "# Import machine learning libraries\n",
    "import sklearn\n",
    "from sklearn.model_selection import StratifiedKFold, GridSearchCV, cross_val_score, PredefinedSplit\n",
    "from sklearn.svm import LinearSVC, SVC\n",
    "from sklearn.linear_model import LogisticRegression\n",
    "from sklearn.naive_bayes import GaussianNB\n",
    "from sklearn.preprocessing import StandardScaler\n",
    "from sklearn.metrics import roc_curve, auc, roc_auc_score\n",
    "\n",
    "%matplotlib inline \n",
    "%autosave 5"
   ]
  },
  {
   "cell_type": "code",
   "execution_count": 3,
   "id": "47168bdf",
   "metadata": {},
   "outputs": [
    {
     "name": "stdout",
     "output_type": "stream",
     "text": [
      "The python version is 3.9.10.\n",
      "The scikit-learn version is 1.0.2.\n",
      "The numpy version is 1.20.3.\n",
      "The nilearn version is 0.8.1.\n",
      "The seaborn version is 0.11.2.\n"
     ]
    }
   ],
   "source": [
    "from platform import python_version\n",
    "print('The python version is {}.'.format(python_version()))\n",
    "print('The scikit-learn version is {}.'.format(sklearn.__version__))\n",
    "print('The numpy version is {}.'.format(np.__version__))\n",
    "print('The nilearn version is {}.'.format(nilearn.__version__))\n",
    "print('The seaborn version is {}.'.format(sns.__version__))"
   ]
  },
  {
   "cell_type": "code",
   "execution_count": 7,
   "id": "2d6eddd6",
   "metadata": {},
   "outputs": [
    {
     "name": "stdout",
     "output_type": "stream",
     "text": [
      "TASK: imagine\n",
      "LIST OF TASKS: ['imagine']\n",
      "task index: 0\n",
      "\n",
      "ROIs = ['bilateral_hippo', 'bilateral_oc-temp']\n",
      "Labels = {0: 'Scenes', 1: 'Faces'}\n",
      "number of runs = 2\n",
      "TRs per run after trimming = 144\n",
      "TRs per run after trimming = 216\n"
     ]
    }
   ],
   "source": [
    "# Set printing precision\n",
    "np.set_printoptions(precision=2, suppress=True)\n",
    "\n",
    "# load some helper functions\n",
    "sys.path.insert(0, '/jukebox/norman/karina/adderzip_fMRI/adderzip/code/mainanalysis')\n",
    "\n",
    "#imagine\n",
    "import adderzip_utils_imagine\n",
    "from adderzip_utils_imagine import load_adderzip_stim_labels_imagine,load_adderzip_epi_data, shift_timing, label2TR, mask_data\n",
    "\n",
    "# load some constants\n",
    "from adderzip_utils_imagine import adderzip_dir, adderzip_bids_dir, adderzip_label_dict_imagine, adderzip_TR, adderzip_hrf_lag, run_names, run_order_start, n_runs, TRs_run\n",
    "\n",
    "data_dir='/jukebox/norman/karina/adderzip_fMRI/adderzip/data/mainanalysis/output'\n",
    "\n",
    "importlib.reload(adderzip_utils_imagine)\n",
    "\n",
    "task = task_list[1]\n",
    "print('TASK:', task)\n",
    "print('LIST OF TASKS:', run_names)\n",
    "task_index = run_names.index(task)\n",
    "print('task index:', task_index)\n",
    "print('')\n",
    "\n",
    "n_runs_imagine = n_runs[task_index]\n",
    "\n",
    "TRs_run_imagine=144\n",
    "TRs_run_extra_imagine=216\n",
    "\n",
    "trials_run_imagine = 32\n",
    "trials_run_extra_imagine = 48\n",
    "\n",
    "print('ROIs = %s' % (mask_list))\n",
    "print('Labels = %s' % (adderzip_label_dict_imagine))\n",
    "print('number of runs = %d' % (n_runs_imagine))\n",
    "print('TRs per run after trimming = %s' % (TRs_run_imagine))\n",
    "print('TRs per run after trimming = %s' % (TRs_run_extra_imagine))"
   ]
  },
  {
   "cell_type": "code",
   "execution_count": 8,
   "id": "70c63232",
   "metadata": {},
   "outputs": [],
   "source": [
    "def getLabel(this_sub,this_run,this_task): \n",
    "    \n",
    "    label_dir = data_dir + '/label_list_%s/labels_run-0%i_%s.csv' % (this_task, this_run, this_sub)\n",
    "    thisLabel = open(label_dir)\n",
    "    thisLabel = csv.reader(thisLabel)\n",
    "    thisLabel = list(thisLabel)\n",
    "    thisLabel = np.array(thisLabel)\n",
    "    thisLabel = np.float64(thisLabel)\n",
    "    \n",
    "    return thisLabel\n",
    "\n",
    "def getBold(this_sub,this_run,this_task,this_mask):\n",
    "    \n",
    "    bold_dir = data_dir + '/bold_data_%s/%s/bold_run-0%i_%s.csv' % (this_task, this_mask, this_run, this_sub)\n",
    "    thisBold = open(bold_dir)\n",
    "    thisBold = csv.reader(thisBold)\n",
    "    thisBold = list(thisBold)\n",
    "    thisBold = np.array(thisBold)\n",
    "    thisBold = np.float64(thisBold)\n",
    "    \n",
    "    return thisBold\n",
    "\n",
    "def getGroup(this_sub,this_run):\n",
    "    \n",
    "    group_dir = data_dir + '/itemGroup_imagine/itemGroup_run-0%i_%s.csv' % (this_run, this_sub)\n",
    "    group = open(group_dir)\n",
    "    group = csv.reader(group)\n",
    "    group = list(group)\n",
    "    group = np.array(group)\n",
    "    group = np.float64(group)\n",
    "    #print('group')\n",
    "    #print(group)\n",
    "    \n",
    "    return group"
   ]
  },
  {
   "cell_type": "code",
   "execution_count": 22,
   "id": "bd59ea96",
   "metadata": {},
   "outputs": [
    {
     "name": "stdout",
     "output_type": "stream",
     "text": [
      "boldshape (144, 1950)\n",
      "group 144\n",
      "34\n",
      "33\n",
      "34\n",
      "33\n"
     ]
    },
    {
     "ename": "ValueError",
     "evalue": "x and y must have the same length.",
     "output_type": "error",
     "traceback": [
      "\u001b[0;31m---------------------------------------------------------------------------\u001b[0m",
      "\u001b[0;31mValueError\u001b[0m                                Traceback (most recent call last)",
      "\u001b[0;32m<ipython-input-22-f38f4434c74c>\u001b[0m in \u001b[0;36m<module>\u001b[0;34m\u001b[0m\n\u001b[1;32m     29\u001b[0m \u001b[0;34m\u001b[0m\u001b[0m\n\u001b[1;32m     30\u001b[0m \u001b[0;31m# compute differentiation correlation\u001b[0m\u001b[0;34m\u001b[0m\u001b[0;34m\u001b[0m\u001b[0m\n\u001b[0;32m---> 31\u001b[0;31m \u001b[0mgensExcpts\u001b[0m \u001b[0;34m=\u001b[0m \u001b[0mpearsonr\u001b[0m\u001b[0;34m(\u001b[0m\u001b[0mgensBold\u001b[0m\u001b[0;34m,\u001b[0m \u001b[0mexcptsBold\u001b[0m\u001b[0;34m)\u001b[0m\u001b[0;34m[\u001b[0m\u001b[0;36m0\u001b[0m\u001b[0;34m]\u001b[0m\u001b[0;34m\u001b[0m\u001b[0;34m\u001b[0m\u001b[0m\n\u001b[0m\u001b[1;32m     32\u001b[0m \u001b[0;31m#first value is Pearson's r, second value is p-value\u001b[0m\u001b[0;34m\u001b[0m\u001b[0;34m\u001b[0m\u001b[0m\n\u001b[1;32m     33\u001b[0m \u001b[0mprint\u001b[0m\u001b[0;34m(\u001b[0m\u001b[0mgensExcpts\u001b[0m\u001b[0;34m)\u001b[0m\u001b[0;34m\u001b[0m\u001b[0;34m\u001b[0m\u001b[0m\n",
      "\u001b[0;32m~/miniconda3/envs/adderzip_07_17_21/lib/python3.9/site-packages/scipy/stats/stats.py\u001b[0m in \u001b[0;36mpearsonr\u001b[0;34m(x, y)\u001b[0m\n\u001b[1;32m   4011\u001b[0m     \u001b[0mn\u001b[0m \u001b[0;34m=\u001b[0m \u001b[0mlen\u001b[0m\u001b[0;34m(\u001b[0m\u001b[0mx\u001b[0m\u001b[0;34m)\u001b[0m\u001b[0;34m\u001b[0m\u001b[0;34m\u001b[0m\u001b[0m\n\u001b[1;32m   4012\u001b[0m     \u001b[0;32mif\u001b[0m \u001b[0mn\u001b[0m \u001b[0;34m!=\u001b[0m \u001b[0mlen\u001b[0m\u001b[0;34m(\u001b[0m\u001b[0my\u001b[0m\u001b[0;34m)\u001b[0m\u001b[0;34m:\u001b[0m\u001b[0;34m\u001b[0m\u001b[0;34m\u001b[0m\u001b[0m\n\u001b[0;32m-> 4013\u001b[0;31m         \u001b[0;32mraise\u001b[0m \u001b[0mValueError\u001b[0m\u001b[0;34m(\u001b[0m\u001b[0;34m'x and y must have the same length.'\u001b[0m\u001b[0;34m)\u001b[0m\u001b[0;34m\u001b[0m\u001b[0;34m\u001b[0m\u001b[0m\n\u001b[0m\u001b[1;32m   4014\u001b[0m \u001b[0;34m\u001b[0m\u001b[0m\n\u001b[1;32m   4015\u001b[0m     \u001b[0;32mif\u001b[0m \u001b[0mn\u001b[0m \u001b[0;34m<\u001b[0m \u001b[0;36m2\u001b[0m\u001b[0;34m:\u001b[0m\u001b[0;34m\u001b[0m\u001b[0;34m\u001b[0m\u001b[0m\n",
      "\u001b[0;31mValueError\u001b[0m: x and y must have the same length."
     ]
    }
   ],
   "source": [
    "#RSA of generalization vs exceptions\n",
    "#before & after\n",
    "\n",
    "imagine_runs = np.array([8,9])\n",
    "\n",
    "subNum = '005'\n",
    "eachRun = 0\n",
    "\n",
    "thisRun = imagine_runs[eachRun]\n",
    "\n",
    "thisBold = getBold(subNum,thisRun,'imagine','bilateral_hippo')\n",
    "print('boldshape',np.shape(thisBold))\n",
    "#thisLabel = getLabel(subNum,thisRun,'imagine')\n",
    "group = getGroup(subNum,thisRun)\n",
    "print('group',len(group))\n",
    "\n",
    "gens = np.where(group[:]==3)[0]\n",
    "print(len(gens))\n",
    "excpts = np.where(group[:]==5)[0]\n",
    "print(len(excpts))\n",
    "\n",
    "gensBold = thisBold[gens,:]\n",
    "print(len(gensBold))\n",
    "excptsBold = thisBold[excpts,:]\n",
    "print(len(excptsBold))\n",
    "\n",
    "#gensLabel = thisLabel[gens]\n",
    "#excptsLabel = thisLabel[excpts]\n",
    "\n",
    "# compute differentiation correlation\n",
    "gensExcpts = pearsonr(gensBold, excptsBold)[0]\n",
    "#first value is Pearson's r, second value is p-value\n",
    "print(gensExcpts)\n",
    "\n",
    "\n",
    "\n"
   ]
  },
  {
   "cell_type": "code",
   "execution_count": null,
   "id": "89446cb1",
   "metadata": {},
   "outputs": [],
   "source": []
  }
 ],
 "metadata": {
  "kernelspec": {
   "display_name": "Python 3",
   "language": "python",
   "name": "python3"
  },
  "language_info": {
   "codemirror_mode": {
    "name": "ipython",
    "version": 3
   },
   "file_extension": ".py",
   "mimetype": "text/x-python",
   "name": "python",
   "nbconvert_exporter": "python",
   "pygments_lexer": "ipython3",
   "version": "3.9.10"
  }
 },
 "nbformat": 4,
 "nbformat_minor": 5
}
