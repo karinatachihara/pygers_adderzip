{
 "cells": [
  {
   "cell_type": "code",
   "execution_count": 1,
   "id": "1bc88fb2",
   "metadata": {},
   "outputs": [],
   "source": [
    "sub_list = ['005','006','007','008','009','010','011','012','013','015','017','018','020','022','023','024']\n",
    "task_list = ['localizer','imagine']\n",
    "mask_list=['bilateral_hippo','bilateral_oc-temp']"
   ]
  },
  {
   "cell_type": "code",
   "execution_count": 2,
   "id": "25ae152c",
   "metadata": {},
   "outputs": [
    {
     "data": {
      "application/javascript": [
       "IPython.notebook.set_autosave_interval(5000)"
      ]
     },
     "metadata": {},
     "output_type": "display_data"
    },
    {
     "name": "stdout",
     "output_type": "stream",
     "text": [
      "Autosaving every 5 seconds\n"
     ]
    }
   ],
   "source": [
    "import warnings\n",
    "import sys \n",
    "if not sys.warnoptions:\n",
    "    warnings.simplefilter(\"ignore\")\n",
    "import numpy as np\n",
    "import nibabel as nib\n",
    "import nilearn\n",
    "from nilearn.input_data import NiftiMasker,  MultiNiftiMasker\n",
    "from nilearn.masking import intersect_masks\n",
    "from nilearn import image\n",
    "from nilearn import plotting\n",
    "from nilearn.plotting import plot_roi\n",
    "from scipy import stats\n",
    "from sklearn import preprocessing\n",
    "import matplotlib.pyplot as plt \n",
    "import scipy.io\n",
    "#from mpi4py import MPI\n",
    "import os\n",
    "import pickle \n",
    "import time\n",
    "from scipy.sparse import random\n",
    "from scipy.stats import zscore\n",
    "from scipy.spatial.distance import euclidean\n",
    "from pathlib import Path\n",
    "from shutil import copyfile\n",
    "import seaborn as sns\n",
    "import importlib\n",
    "import csv\n",
    "\n",
    "# Import machine learning libraries\n",
    "import sklearn\n",
    "from sklearn.model_selection import StratifiedKFold, GridSearchCV, cross_val_score, PredefinedSplit\n",
    "from sklearn.svm import LinearSVC, SVC\n",
    "from sklearn.linear_model import LogisticRegression\n",
    "from sklearn.naive_bayes import GaussianNB\n",
    "from sklearn.preprocessing import StandardScaler\n",
    "from sklearn.metrics import roc_curve, auc, roc_auc_score\n",
    "\n",
    "%matplotlib inline \n",
    "%autosave 5"
   ]
  },
  {
   "cell_type": "code",
   "execution_count": 3,
   "id": "e7a72d3d",
   "metadata": {},
   "outputs": [
    {
     "name": "stdout",
     "output_type": "stream",
     "text": [
      "The python version is 3.9.10.\n",
      "The scikit-learn version is 1.0.2.\n",
      "The numpy version is 1.20.3.\n",
      "The nilearn version is 0.8.1.\n",
      "The seaborn version is 0.11.2.\n"
     ]
    }
   ],
   "source": [
    "from platform import python_version\n",
    "print('The python version is {}.'.format(python_version()))\n",
    "print('The scikit-learn version is {}.'.format(sklearn.__version__))\n",
    "print('The numpy version is {}.'.format(np.__version__))\n",
    "print('The nilearn version is {}.'.format(nilearn.__version__))\n",
    "print('The seaborn version is {}.'.format(sns.__version__))"
   ]
  },
  {
   "cell_type": "code",
   "execution_count": 4,
   "id": "034420ca",
   "metadata": {},
   "outputs": [
    {
     "name": "stdout",
     "output_type": "stream",
     "text": [
      "TASKS: localizer\n",
      "LIST OF ALL TASKS: ['localizer']\n",
      "task index: 0\n",
      "\n",
      "ROIs = ['bilateral_hippo', 'bilateral_oc-temp']\n",
      "Labels = {1: 'Faces', 2: 'Scenes', 3: 'Objects', 0: 'Rest'}\n",
      "number of runs = 3\n",
      "number of participants =  16\n",
      "TRs per run after trimming = 170\n"
     ]
    }
   ],
   "source": [
    "# Set printing precision\n",
    "np.set_printoptions(precision=2, suppress=True)\n",
    "\n",
    "# load some helper functions\n",
    "sys.path.insert(0, '/jukebox/norman/karina/adderzip_fMRI/adderzip/code/mainanalysis')\n",
    "\n",
    "#localizer\n",
    "import adderzip_utils\n",
    "from adderzip_utils import load_adderzip_stim_labels_localizer,load_adderzip_epi_data, shift_timing, label2TR, mask_data\n",
    "\n",
    "importlib.reload(adderzip_utils)\n",
    "\n",
    "# load some constants\n",
    "from adderzip_utils import adderzip_dir, adderzip_bids_dir, adderzip_label_dict, n_runs, run_names, adderzip_TR, adderzip_hrf_lag, TRs_run\n",
    "\n",
    "anat_dir=adderzip_bids_dir + 'derivatives/deface/'\n",
    "out_dir= adderzip_bids_dir + 'derivatives/firstlevel/'\n",
    "fmriprep_dir=adderzip_bids_dir + 'derivatives/fmriprep/'\n",
    "data_dir='/jukebox/norman/karina/adderzip_fMRI/adderzip/data/mainanalysis/output'\n",
    "\n",
    "task = task_list[0]\n",
    "print('TASKS:', task)\n",
    "print('LIST OF ALL TASKS:', run_names)\n",
    "task_index = run_names.index(task)\n",
    "print('task index:', task_index)\n",
    "print('')\n",
    "\n",
    "n_runs_localizer = n_runs[task_index]\n",
    "\n",
    "TRs_run_localizer=170\n",
    "\n",
    "print('ROIs = %s' % (mask_list))\n",
    "print('Labels = %s' % (adderzip_label_dict))\n",
    "print('number of runs = %d' % (n_runs_localizer))\n",
    "print('number of participants = ',len(sub_list))\n",
    "print('TRs per run after trimming = %s' % (TRs_run_localizer))"
   ]
  },
  {
   "cell_type": "code",
   "execution_count": 5,
   "id": "46e60bc9",
   "metadata": {},
   "outputs": [
    {
     "name": "stdout",
     "output_type": "stream",
     "text": [
      "TASK: imagine\n",
      "LIST OF TASKS: ['imagine']\n",
      "task index: 0\n",
      "\n",
      "ROIs = ['bilateral_hippo', 'bilateral_oc-temp']\n",
      "Labels = {0: 'Scenes', 1: 'Faces'}\n",
      "number of runs = 2\n",
      "TRs per run after trimming = 144\n",
      "TRs per run after trimming = 216\n"
     ]
    }
   ],
   "source": [
    "#imagine\n",
    "import adderzip_utils_imagine\n",
    "from adderzip_utils_imagine import load_adderzip_stim_labels_imagine,load_adderzip_epi_data, shift_timing, label2TR, mask_data\n",
    "\n",
    "# load some constants\n",
    "from adderzip_utils_imagine import adderzip_dir, adderzip_bids_dir, adderzip_label_dict_imagine, adderzip_TR, adderzip_hrf_lag, run_names, run_order_start, n_runs, TRs_run\n",
    "\n",
    "importlib.reload(adderzip_utils_imagine)\n",
    "\n",
    "task = task_list[1]\n",
    "print('TASK:', task)\n",
    "print('LIST OF TASKS:', run_names)\n",
    "task_index = run_names.index(task)\n",
    "print('task index:', task_index)\n",
    "print('')\n",
    "\n",
    "n_runs_imagine = n_runs[task_index]\n",
    "\n",
    "TRs_run_imagine=144\n",
    "TRs_run_extra_imagine=216\n",
    "\n",
    "trials_run_imagine = 32\n",
    "trials_run_extra_imagine = 48\n",
    "\n",
    "print('ROIs = %s' % (mask_list))\n",
    "print('Labels = %s' % (adderzip_label_dict_imagine))\n",
    "print('number of runs = %d' % (n_runs_imagine))\n",
    "print('TRs per run after trimming = %s' % (TRs_run_imagine))\n",
    "print('TRs per run after trimming = %s' % (TRs_run_extra_imagine))"
   ]
  },
  {
   "cell_type": "code",
   "execution_count": 6,
   "id": "e95849c5",
   "metadata": {},
   "outputs": [],
   "source": [
    "def classifier(bold_train, labels_train, bold_test, labels_test, model,linReg):\n",
    "    # normalize the data \n",
    "    scaler = StandardScaler()\n",
    "    bold_train = scaler.fit_transform(bold_train)\n",
    "    bold_test = scaler.fit_transform(bold_test)\n",
    "\n",
    "\n",
    "    # Fit the model\n",
    "    model.fit(bold_train, labels_train)\n",
    "\n",
    "    # Compute your evaluation on the test set\n",
    "    score = model.score(bold_test, labels_test)\n",
    "    print('Accuracy = %s' % score)\n",
    "    \n",
    "    if linReg == 1:\n",
    "        prediction = model.predict(bold_test)\n",
    "        prediction_prob = model.predict_proba(bold_test)\n",
    "    else:\n",
    "        prediction = 'NA'\n",
    "        prediction_prob = 'NA'\n",
    "    \n",
    "    return score, prediction, prediction_prob\n",
    "\n",
    "model_linearSVC = LinearSVC(C=1)\n",
    "model_linReg_1 = LogisticRegression(C=1.0, random_state=34, solver='liblinear')"
   ]
  },
  {
   "cell_type": "code",
   "execution_count": 7,
   "id": "cbd07b12",
   "metadata": {},
   "outputs": [],
   "source": [
    "def calc_auc(y_true,y_scores,makePlot): \n",
    "    fpr,tpr,threshold = roc_curve(y_true,y_scores,pos_label=1)\n",
    "\n",
    "    roc_auc = auc(fpr,tpr)\n",
    "    \n",
    "    if makePlot == 1:\n",
    "        plt.figure()\n",
    "        lw = 2\n",
    "        plt.plot(fpr, tpr, color='darkorange',\n",
    "                lw=lw, label='ROC curve (area = %0.2f)' % roc_auc)\n",
    "        plt.plot([0, 1], [0, 1], color='navy', lw=lw, linestyle='--')\n",
    "        plt.xlim([0.0, 1.0])\n",
    "        plt.ylim([0.0, 1.05])\n",
    "        plt.xlabel('False Positive Rate')\n",
    "        plt.ylabel('True Positive Rate')\n",
    "        #title=' %s classifier for all 3 runs for %s subjects' % (classiType,partiNum)\n",
    "        #plt.title(title)\n",
    "        plt.legend(loc=\"lower right\")\n",
    "        plt.show()\n",
    "    \n",
    "    return roc_auc"
   ]
  },
  {
   "cell_type": "code",
   "execution_count": 8,
   "id": "138a59a4",
   "metadata": {},
   "outputs": [],
   "source": [
    "def getLabel(this_sub,this_run,this_task): \n",
    "    \n",
    "    label_dir = data_dir + '/label_list_%s/labels_run-0%i_%s.csv' % (this_task, this_run, this_sub)\n",
    "    thisLabel = open(label_dir)\n",
    "    thisLabel = csv.reader(thisLabel)\n",
    "    thisLabel = list(thisLabel)\n",
    "    thisLabel = np.array(thisLabel)\n",
    "    thisLabel = np.float64(thisLabel)\n",
    "    \n",
    "    return thisLabel\n",
    "\n",
    "def getBold(this_sub,this_run,this_task,this_mask):\n",
    "    \n",
    "    bold_dir = data_dir + '/bold_data_%s/%s/bold_run-0%i_%s.csv' % (this_task, this_mask, this_run, this_sub)\n",
    "    thisBold = open(bold_dir)\n",
    "    thisBold = csv.reader(thisBold)\n",
    "    thisBold = list(thisBold)\n",
    "    thisBold = np.array(thisBold)\n",
    "    thisBold = np.float64(thisBold)\n",
    "    \n",
    "    return thisBold\n",
    "\n",
    "def getGroup(this_sub,this_run):\n",
    "    \n",
    "    group_dir = data_dir + '/itemGroup_imagine/itemGroup_run-0%i_%s.csv' % (this_run, this_sub)\n",
    "    group = open(group_dir)\n",
    "    group = csv.reader(group)\n",
    "    group = list(group)\n",
    "    group = np.array(group)\n",
    "    group = np.float64(group)\n",
    "    #print('group')\n",
    "    #print(group)\n",
    "    \n",
    "    return group\n",
    "    \n",
    "#     print('g+e')\n",
    "#     print(group>=3)\n",
    "    \n",
    "#     newGr = np.zeros((len(group),2))\n",
    "#     newGr[:,0] = group>=3\n",
    "#     newGr[:,1] = group<=2\n",
    "    \n",
    "#     return newGr"
   ]
  },
  {
   "cell_type": "code",
   "execution_count": 9,
   "id": "dbe492dc",
   "metadata": {},
   "outputs": [],
   "source": [
    "def binarize(labels, category):\n",
    "    \n",
    "    find_zeros = np.where(labels[:] == 0)[0] #to double check that numbers line up\n",
    "    find_ones = np.where(labels[:] == 1)[0] #to double check that numbers line up\n",
    "    find_twos = np.where(labels[:] == 2)[0] #to double check that numbers line up\n",
    "    find_threes = np.where(labels[:] == 3)[0] #to double check that numbers line up\n",
    "    \n",
    "    if category == 'faces':\n",
    "        labels[find_ones] = 1\n",
    "        labels[find_twos] = 0\n",
    "        labels[find_threes] = 0\n",
    "    if category == 'scenes':\n",
    "        labels[find_ones] = 0\n",
    "        labels[find_twos] = 1\n",
    "        labels[find_threes] = 0\n",
    "    if category == 'scenes':\n",
    "        labels[find_ones] = 0\n",
    "        labels[find_twos] = 0\n",
    "        labels[find_threes] = 1\n",
    "        \n",
    "    return labels"
   ]
  },
  {
   "cell_type": "code",
   "execution_count": 26,
   "id": "1eed0bf9",
   "metadata": {},
   "outputs": [
    {
     "name": "stdout",
     "output_type": "stream",
     "text": [
      "005\n",
      "Accuracy = 0.7\n"
     ]
    },
    {
     "data": {
      "image/png": "[encoded data removed]",
      "text/plain": [
       "<Figure size 432x288 with 1 Axes>"
      ]
     },
     "metadata": {
      "needs_background": "light"
     },
     "output_type": "display_data"
    },
    {
     "name": "stdout",
     "output_type": "stream",
     "text": [
      "Accuracy = 0.8111111111111111\n",
      "Accuracy = 0.8666666666666667\n",
      "006\n",
      "Accuracy = 0.9555555555555556\n",
      "Accuracy = 0.8222222222222222\n",
      "Accuracy = 0.9\n",
      "007\n",
      "Accuracy = 0.8111111111111111\n",
      "Accuracy = 0.8555555555555555\n",
      "Accuracy = 0.6888888888888889\n",
      "008\n",
      "Accuracy = 0.8222222222222222\n",
      "Accuracy = 0.8111111111111111\n",
      "Accuracy = 0.6111111111111112\n",
      "009\n",
      "Accuracy = 0.9222222222222223\n",
      "Accuracy = 0.7222222222222222\n",
      "Accuracy = 0.9333333333333333\n",
      "010\n",
      "Accuracy = 0.8888888888888888\n",
      "Accuracy = 0.8\n",
      "Accuracy = 0.9\n",
      "011\n",
      "Accuracy = 0.7444444444444445\n",
      "Accuracy = 0.5555555555555556\n",
      "Accuracy = 0.5888888888888889\n",
      "012\n",
      "Accuracy = 0.7333333333333333\n",
      "Accuracy = 1.0\n",
      "Accuracy = 0.8888888888888888\n",
      "013\n",
      "Accuracy = 0.7777777777777778\n",
      "Accuracy = 0.8666666666666667\n",
      "Accuracy = 0.9222222222222223\n",
      "015\n",
      "Accuracy = 0.8333333333333334\n",
      "Accuracy = 0.8333333333333334\n",
      "Accuracy = 0.7222222222222222\n",
      "017\n",
      "Accuracy = 0.8111111111111111\n",
      "Accuracy = 0.7222222222222222\n",
      "Accuracy = 0.8666666666666667\n",
      "018\n",
      "Accuracy = 0.9333333333333333\n",
      "Accuracy = 0.8444444444444444\n",
      "Accuracy = 0.8333333333333334\n",
      "019\n",
      "Accuracy = 0.8777777777777778\n",
      "Accuracy = 0.8777777777777778\n",
      "Accuracy = 0.6777777777777778\n",
      "020\n",
      "Accuracy = 0.8333333333333334\n",
      "Accuracy = 0.9444444444444444\n",
      "Accuracy = 0.7111111111111111\n",
      "022\n",
      "Accuracy = 0.9\n",
      "Accuracy = 0.8555555555555555\n",
      "Accuracy = 0.8777777777777778\n",
      "023\n",
      "Accuracy = 0.6444444444444445\n",
      "Accuracy = 0.8222222222222222\n",
      "Accuracy = 0.8666666666666667\n",
      "024\n",
      "Accuracy = 0.8555555555555555\n",
      "Accuracy = 0.6888888888888889\n",
      "Accuracy = 0.8888888888888888\n",
      "mean roc auc 0.8984204793028321\n",
      "roc auc [0.8  0.87 0.98 0.99 0.95 0.95 0.95 0.94 0.73 0.97 0.91 0.73 0.98 0.79\n",
      " 1.   0.98 0.85 0.97 0.85 0.58 0.67 0.76 1.   0.99 0.86 0.97 0.99 0.96\n",
      " 0.99 0.74 0.96 0.8  0.95 0.97 0.95 0.95 0.98 0.96 0.76 0.97 1.   0.76\n",
      " 0.98 0.94 0.98 0.74 0.92 0.96 0.97 0.7  0.95]\n"
     ]
    }
   ],
   "source": [
    "#check classifier performance on localizer runs\n",
    "#test on 2 and test out on held out third\n",
    "\n",
    "folds = np.array([[10,11,12],[11,12,10],[12,10,11]])\n",
    "\n",
    "for eachSubj in range(len(sub_list)):\n",
    "    subNum = sub_list[eachSubj]\n",
    "    print(subNum)\n",
    "       \n",
    "    for eachFold in range(3):\n",
    "        \n",
    "        trainRun_1 = folds[eachFold, 0]\n",
    "        trainRun_2 = folds[eachFold, 1]\n",
    "        \n",
    "        trainBold_1 = getBold(subNum,trainRun_1,'localizer','bilateral_oc-temp')\n",
    "        trainBold_2 = getBold(subNum,trainRun_2,'localizer','bilateral_oc-temp')\n",
    "        \n",
    "        trainBold = np.vstack((trainBold_1,trainBold_2))\n",
    "        \n",
    "        trainLabel_1 = getLabel(subNum,trainRun_1,'localizer')\n",
    "        trainLabel_2 = getLabel(subNum,trainRun_2,'localizer')\n",
    "        \n",
    "        trainLabel = np.vstack((trainLabel_1,trainLabel_2))\n",
    "        trainLabel = binarize(trainLabel,'faces')\n",
    "        \n",
    "        testRun = folds[eachFold, 2]\n",
    "        \n",
    "        testBold = getBold(subNum,testRun,'localizer','bilateral_oc-temp')\n",
    "        \n",
    "        testLabel = getLabel(subNum,testRun,'localizer')\n",
    "        testLabel = binarize(testLabel,'faces')\n",
    "        \n",
    "        #print('trainBold',trainBold.shape)\n",
    "        #print('trainLabel',trainLabel.shape)\n",
    "        #print('testBold',testBold.shape)\n",
    "        #print('testLabel',testLabel.shape)\n",
    "        \n",
    "        score, prediction, prediction_prob = classifier(trainBold,trainLabel,testBold,testLabel,model_linReg_1,1)\n",
    "        #print(prediction_prob[:5,:])\n",
    "\n",
    "        y_true = np.ravel(testLabel)\n",
    "        y_true = list(y_true)\n",
    "        #print(y_true)\n",
    "\n",
    "        y_score = prediction_prob[:,1]\n",
    "        #print(y_score)\n",
    "        \n",
    "        if eachSubj == 0 and eachFold == 0:\n",
    "            roc_auc = calc_auc(y_true,y_score,1)\n",
    "            roc_auc_all = np.array([roc_auc])\n",
    "        else:\n",
    "            roc_auc = calc_auc(y_true,y_score,0)\n",
    "            roc_auc = np.array([roc_auc])\n",
    "            roc_auc_all = np.hstack((roc_auc_all,roc_auc))\n",
    "\n",
    "mean_roc_auc = sum(roc_auc_all)/(3*len(sub_list))\n",
    "print('mean roc auc', mean_roc_auc)\n",
    "print('roc auc',roc_auc_all)"
   ]
  },
  {
   "cell_type": "code",
   "execution_count": 27,
   "id": "968bcec4",
   "metadata": {},
   "outputs": [
    {
     "data": {
      "text/plain": [
       "Ttest_1sampResult(statistic=26.767004283715583, pvalue=2.6680052586178887e-31)"
      ]
     },
     "execution_count": 27,
     "metadata": {},
     "output_type": "execute_result"
    }
   ],
   "source": [
    "stats.ttest_1samp(a=roc_auc_all, popmean=0.5)"
   ]
  },
  {
   "cell_type": "code",
   "execution_count": 10,
   "id": "ff2aa01b",
   "metadata": {},
   "outputs": [
    {
     "name": "stdout",
     "output_type": "stream",
     "text": [
      "005\n",
      "Accuracy = 0.5555555555555556\n"
     ]
    },
    {
     "data": {
      "image/png": "[encoded data removed]",
      "text/plain": [
       "<Figure size 432x288 with 1 Axes>"
      ]
     },
     "metadata": {
      "needs_background": "light"
     },
     "output_type": "display_data"
    },
    {
     "name": "stdout",
     "output_type": "stream",
     "text": [
      "006\n",
      "Accuracy = 0.5388888888888889\n",
      "007\n",
      "Accuracy = 0.5361111111111111\n",
      "008\n",
      "Accuracy = 0.5138888888888888\n",
      "009\n",
      "Accuracy = 0.5555555555555556\n",
      "010\n",
      "Accuracy = 0.5416666666666666\n",
      "011\n",
      "Accuracy = 0.5138888888888888\n",
      "012\n",
      "Accuracy = 0.6305555555555555\n",
      "013\n",
      "Accuracy = 0.525\n",
      "015\n",
      "Accuracy = 0.5583333333333333\n",
      "017\n",
      "Accuracy = 0.6111111111111112\n",
      "018\n",
      "Accuracy = 0.5138888888888888\n",
      "019\n",
      "Accuracy = 0.5555555555555556\n",
      "020\n",
      "Accuracy = 0.5416666666666666\n",
      "022\n",
      "Accuracy = 0.4888888888888889\n",
      "023\n",
      "Accuracy = 0.575\n",
      "024\n",
      "Accuracy = 0.5111111111111111\n",
      "mean roc auc 0.5585553123969453\n",
      "roc auc [0.6  0.54 0.55 0.56 0.58 0.51 0.51 0.71 0.57 0.57 0.62 0.53 0.52 0.57\n",
      " 0.48 0.57 0.52]\n"
     ]
    }
   ],
   "source": [
    "#check classifier performance on imagine runs\n",
    "#train on localizer, test on imagine runs \n",
    "\n",
    "localizer_runs = np.array([10,11,12])\n",
    "imagine_runs = np.array([8,9])\n",
    "\n",
    "for eachSubj in range(len(sub_list)):\n",
    "    subNum = sub_list[eachSubj]\n",
    "    print(subNum)\n",
    "    \n",
    "    for eachRun in range(n_runs_localizer):\n",
    "        thisRun = localizer_runs[eachRun]\n",
    "        thisBold = getBold(subNum,thisRun,'localizer','bilateral_oc-temp')\n",
    "        \n",
    "        if eachRun==0:\n",
    "            trainBold = thisBold\n",
    "        else:\n",
    "            trainBold = np.vstack((trainBold,thisBold))\n",
    "\n",
    "        thisLabel = getLabel(subNum,thisRun,'localizer')\n",
    "        \n",
    "        if eachRun==0:\n",
    "            trainLabel = thisLabel\n",
    "        else:\n",
    "            trainLabel = np.vstack((trainLabel,thisLabel))\n",
    "    trainLabel = binarize(trainLabel,'faces')\n",
    "    \n",
    "    for eachRun in range(n_runs_imagine):\n",
    "        thisRun = imagine_runs[eachRun]\n",
    "        thisBold = getBold(subNum,thisRun,'imagine','bilateral_oc-temp')\n",
    "        \n",
    "        if eachRun==0:\n",
    "            testBold = thisBold\n",
    "        else:\n",
    "            testBold = np.vstack((testBold,thisBold))\n",
    "\n",
    "        thisLabel = getLabel(subNum,thisRun,'imagine')\n",
    "        \n",
    "        if eachRun==0:\n",
    "            testLabel = thisLabel\n",
    "        else:\n",
    "            testLabel = np.vstack((testLabel,thisLabel))\n",
    "    testLabel = binarize(testLabel,'faces')\n",
    "            \n",
    "    #print('trainBold',trainBold.shape)\n",
    "    #print('trainLabel',trainLabel.shape)\n",
    "    #print('testBold',testBold.shape)\n",
    "    #print('testLabel',testLabel.shape)\n",
    "            \n",
    "    score, prediction, prediction_prob = classifier(trainBold,trainLabel,testBold,testLabel,model_linReg_1,1)\n",
    "    #print(prediction_prob[:5,:])\n",
    "\n",
    "    y_true = np.ravel(testLabel)\n",
    "    y_true = list(y_true)\n",
    "    #print(y_true)\n",
    "\n",
    "    y_score = prediction_prob[:,1]\n",
    "    #print(y_score)\n",
    "\n",
    "    if eachSubj == 0:\n",
    "        roc_auc = calc_auc(y_true,y_score,1)\n",
    "        roc_auc_all = np.array([roc_auc])\n",
    "    else:\n",
    "        roc_auc = calc_auc(y_true,y_score,0)\n",
    "        roc_auc = np.array([roc_auc])\n",
    "        roc_auc_all = np.hstack((roc_auc_all,roc_auc))\n",
    "\n",
    "mean_roc_auc = sum(roc_auc_all)/len(sub_list)\n",
    "print('mean roc auc', mean_roc_auc)\n",
    "print('roc auc',roc_auc_all)"
   ]
  },
  {
   "cell_type": "code",
   "execution_count": 11,
   "id": "fbb9d63d",
   "metadata": {},
   "outputs": [
    {
     "data": {
      "text/plain": [
       "Ttest_1sampResult(statistic=4.7054776480022245, pvalue=0.00023816179679370805)"
      ]
     },
     "execution_count": 11,
     "metadata": {},
     "output_type": "execute_result"
    }
   ],
   "source": [
    "stats.ttest_1samp(a=roc_auc_all, popmean=0.5)"
   ]
  },
  {
   "cell_type": "code",
   "execution_count": 10,
   "id": "68efa658",
   "metadata": {},
   "outputs": [
    {
     "name": "stdout",
     "output_type": "stream",
     "text": [
      "005\n",
      "Accuracy = 0.5798816568047337\n"
     ]
    },
    {
     "data": {
      "image/png": "[encoded data removed]",
      "text/plain": [
       "<Figure size 432x288 with 1 Axes>"
      ]
     },
     "metadata": {
      "needs_background": "light"
     },
     "output_type": "display_data"
    },
    {
     "name": "stdout",
     "output_type": "stream",
     "text": [
      "Accuracy = 0.5706806282722513\n"
     ]
    },
    {
     "data": {
      "image/png": "[encoded data removed]",
      "text/plain": [
       "<Figure size 432x288 with 1 Axes>"
      ]
     },
     "metadata": {
      "needs_background": "light"
     },
     "output_type": "display_data"
    },
    {
     "name": "stdout",
     "output_type": "stream",
     "text": [
      "006\n",
      "Accuracy = 0.5411764705882353\n",
      "Accuracy = 0.531578947368421\n",
      "007\n",
      "Accuracy = 0.5116279069767442\n",
      "Accuracy = 0.5585106382978723\n",
      "008\n",
      "Accuracy = 0.5595238095238095\n",
      "Accuracy = 0.46875\n",
      "009\n",
      "Accuracy = 0.5411764705882353\n",
      "Accuracy = 0.5736842105263158\n",
      "010\n",
      "Accuracy = 0.5297619047619048\n",
      "Accuracy = 0.515625\n",
      "011\n",
      "Accuracy = 0.5617977528089888\n",
      "Accuracy = 0.4725274725274725\n",
      "012\n",
      "Accuracy = 0.6081871345029239\n",
      "Accuracy = 0.671957671957672\n",
      "013\n",
      "Accuracy = 0.5232558139534884\n",
      "Accuracy = 0.526595744680851\n",
      "015\n",
      "Accuracy = 0.5060240963855421\n",
      "Accuracy = 0.5979381443298969\n",
      "017\n",
      "Accuracy = 0.6402439024390244\n",
      "Accuracy = 0.5816326530612245\n",
      "018\n",
      "Accuracy = 0.5029585798816568\n",
      "Accuracy = 0.5340314136125655\n",
      "020\n",
      "Accuracy = 0.5705882352941176\n",
      "Accuracy = 0.5421052631578948\n",
      "022\n",
      "Accuracy = 0.5602409638554217\n",
      "Accuracy = 0.4484536082474227\n",
      "023\n",
      "Accuracy = 0.5828220858895705\n",
      "Accuracy = 0.5786802030456852\n",
      "024\n",
      "Accuracy = 0.5093167701863354\n",
      "Accuracy = 0.5125628140703518\n",
      "mean roc auc for generalization + exceptions 0.5651798189939867\n",
      "roc auc [0.6  0.56 0.5  0.62 0.53 0.53 0.55 0.67 0.57 0.46 0.63 0.54 0.58 0.55\n",
      " 0.59 0.55]\n",
      "mean roc auc for baseline 0.5578783572908332\n",
      "roc auc [0.6  0.53 0.59 0.51 0.62 0.5  0.46 0.72 0.57 0.65 0.6  0.52 0.57 0.42\n",
      " 0.56 0.49]\n"
     ]
    }
   ],
   "source": [
    "#check classifier performance on iagine runs\n",
    "#train on localizer, test on imagine runs \n",
    "#split by g+e and baseline\n",
    "\n",
    "localizer_runs = np.array([10,11,12])\n",
    "imagine_runs = np.array([8,9])\n",
    "\n",
    "roc_auc_all = np.zeros((len(sub_list),2))\n",
    "\n",
    "for eachSubj in range(len(sub_list)):\n",
    "    subNum = sub_list[eachSubj]\n",
    "    print(subNum)\n",
    "    \n",
    "    for eachRun in range(n_runs_localizer):\n",
    "        thisRun = localizer_runs[eachRun]\n",
    "        thisBold = getBold(subNum,thisRun,'localizer','bilateral_oc-temp')\n",
    "        \n",
    "        if eachRun==0:\n",
    "            trainBold = thisBold\n",
    "        else:\n",
    "            trainBold = np.vstack((trainBold,thisBold))\n",
    "\n",
    "        thisLabel = getLabel(subNum,thisRun,'localizer')\n",
    "        \n",
    "        if eachRun==0:\n",
    "            trainLabel = thisLabel\n",
    "        else:\n",
    "            trainLabel = np.vstack((trainLabel,thisLabel))\n",
    "            \n",
    "    trainLabel = binarize(trainLabel,'faces')\n",
    "    \n",
    "    for eachGr in range(2):\n",
    "               \n",
    "        for eachRun in range(n_runs_imagine):\n",
    "            thisRun = imagine_runs[eachRun]\n",
    "            thisBold = getBold(subNum,thisRun,'imagine','bilateral_oc-temp')\n",
    "            #print('thisBold')\n",
    "            #print(thisBold.shape)\n",
    "            \n",
    "            group = getGroup(subNum,thisRun)\n",
    "            \n",
    "            if eachGr == 0:\n",
    "                thisGr = np.where(group[:] >= 3)[0]\n",
    "            if eachGr == 1:\n",
    "                thisGr = np.where(group[:] <= 2)[0]\n",
    "            #print(thisGr)\n",
    "            \n",
    "            thisBold = thisBold[thisGr,:]\n",
    "\n",
    "            if eachRun==0:\n",
    "                testBold = thisBold\n",
    "            else:\n",
    "                testBold = np.vstack((testBold,thisBold))\n",
    "\n",
    "            thisLabel = getLabel(subNum,thisRun,'imagine')\n",
    "            thisLabel = thisLabel[thisGr]\n",
    "    \n",
    "            if eachRun==0:\n",
    "                testLabel = thisLabel\n",
    "            else:\n",
    "                testLabel = np.vstack((testLabel,thisLabel))\n",
    "            \n",
    "        testLabel = binarize(testLabel,'faces')\n",
    "        \n",
    "        #print('trainBold',trainBold.shape)\n",
    "        #print('trainLabel',trainLabel.shape)\n",
    "        #print('testBold',testBold.shape)\n",
    "        #print('testLabel',testLabel.shape)\n",
    "\n",
    "        score, prediction, prediction_prob = classifier(trainBold,trainLabel,testBold,testLabel,model_linReg_1,1)\n",
    "        #print(prediction_prob[:5,:])\n",
    "\n",
    "        y_true = np.ravel(testLabel)\n",
    "        y_true = list(y_true)\n",
    "        #print(y_true)\n",
    "\n",
    "        y_score = prediction_prob[:,1]\n",
    "        #print(y_score)\n",
    "\n",
    "        if eachSubj == 0:\n",
    "            roc_auc = calc_auc(y_true,y_score,1)\n",
    "            roc_auc_all[eachSubj,eachGr] = roc_auc\n",
    "        else:\n",
    "            roc_auc = calc_auc(y_true,y_score,0)\n",
    "            roc_auc_all[eachSubj,eachGr] = roc_auc\n",
    "\n",
    "mean_roc_auc_gr0 = sum(roc_auc_all[:,0])/len(sub_list)\n",
    "mean_roc_auc_gr1 = sum(roc_auc_all[:,1])/len(sub_list)\n",
    "\n",
    "print('mean roc auc for generalization + exceptions', mean_roc_auc_gr0)\n",
    "print('roc auc',roc_auc_all[:,0])\n",
    "\n",
    "print('mean roc auc for baseline', mean_roc_auc_gr1)\n",
    "print('roc auc',roc_auc_all[:,1])"
   ]
  },
  {
   "cell_type": "code",
   "execution_count": 11,
   "id": "cd5768a0",
   "metadata": {},
   "outputs": [
    {
     "name": "stdout",
     "output_type": "stream",
     "text": [
      "[-0.    0.03 -0.1   0.11 -0.1   0.02  0.09 -0.05  0.   -0.19  0.03  0.02\n",
      "  0.02  0.13  0.04  0.06]\n"
     ]
    },
    {
     "data": {
      "text/plain": [
       "Ttest_1sampResult(statistic=0.35325668795389953, pvalue=0.7288115205218813)"
      ]
     },
     "execution_count": 11,
     "metadata": {},
     "output_type": "execute_result"
    }
   ],
   "source": [
    "roc_diff = roc_auc_all[:,0] - roc_auc_all[:,1]\n",
    "print(roc_diff)\n",
    "\n",
    "stats.ttest_1samp(a=roc_diff, popmean=0)"
   ]
  },
  {
   "cell_type": "code",
   "execution_count": 15,
   "id": "3ec0ed4f",
   "metadata": {},
   "outputs": [
    {
     "name": "stdout",
     "output_type": "stream",
     "text": [
      "test against chance - after learning, g vs e\n"
     ]
    },
    {
     "data": {
      "text/plain": [
       "Ttest_1sampResult(statistic=4.9461759625228865, pvalue=0.0001758092588913283)"
      ]
     },
     "execution_count": 15,
     "metadata": {},
     "output_type": "execute_result"
    }
   ],
   "source": [
    "print('test against chance - after learning, g vs e')\n",
    "stats.ttest_1samp(a=roc_auc_all[:,0], popmean=0.5)"
   ]
  },
  {
   "cell_type": "code",
   "execution_count": 12,
   "id": "a6a7fc16",
   "metadata": {},
   "outputs": [
    {
     "name": "stdout",
     "output_type": "stream",
     "text": [
      "005\n",
      "[  4   5   6   7  27  28  29  30  36  37  38  39  40  50  51  52  53  54\n",
      "  55  56  57  58  59  60  61  62  64  65  66  67  68  69  70  71  72  73\n",
      "  74  75  77  78  79  80  85  86  87  88 107 108 109 110 111 112 113 114\n",
      " 130 131 132 133 134 139 140 141 142]\n",
      "[  3   4   5   6  22  23  24  25  30  31  32  33  38  39  40  41  52  53\n",
      "  54  55  56  67  68  69  70  71  72  73  74  86  87  88  89  90  91  92\n",
      "  93  94  95  96  97 108 109 110 111 112 113 114 115 116 121 122 123 124\n",
      " 126 127 128 129 130 139 140 141 142]\n",
      "Accuracy = 0.5317460317460317\n"
     ]
    },
    {
     "data": {
      "image/png": "[encoded data removed]",
      "text/plain": [
       "<Figure size 432x288 with 1 Axes>"
      ]
     },
     "metadata": {
      "needs_background": "light"
     },
     "output_type": "display_data"
    },
    {
     "name": "stdout",
     "output_type": "stream",
     "text": [
      "[  0   1   2   3   8   9  10  11  12  13  14  15  16  17  18  19  20  21\n",
      "  22  23  24  25  26  31  32  33  34  35  41  42  43  44  45  46  47  48\n",
      "  49  63  76  81  82  83  84  89  90  91  92  93  94  95  96  97  98  99\n",
      " 100 101 102 103 104 105 106 115 116 117 118 119 120 121 122 123 124 125\n",
      " 126 127 128 129 135 136 137 138 143]\n",
      "[  0   1   2   7   8   9  10  11  12  13  14  15  16  17  18  19  20  21\n",
      "  26  27  28  29  34  35  36  37  42  43  44  45  46  47  48  49  50  51\n",
      "  57  58  59  60  61  62  63  64  65  66  75  76  77  78  79  80  81  82\n",
      "  83  84  85  98  99 100 101 102 103 104 105 106 107 117 118 119 120 125\n",
      " 131 132 133 134 135 136 137 138 143]\n",
      "Accuracy = 0.49382716049382713\n"
     ]
    },
    {
     "data": {
      "image/png": "[encoded data removed]",
      "text/plain": [
       "<Figure size 432x288 with 1 Axes>"
      ]
     },
     "metadata": {
      "needs_background": "light"
     },
     "output_type": "display_data"
    },
    {
     "name": "stdout",
     "output_type": "stream",
     "text": [
      "006\n",
      "[  4   5   6   7   9  10  11  12  13  14  15  16  17  18  19  20  21  22\n",
      "  23  38  39  40  41  51  52  53  54  56  57  58  59  65  66  67  68  73\n",
      "  74  75  76  81  82  83  84  86  87  88  89  90  95  96  97  98 104 105\n",
      " 106 107 108 109 110 111 120 121 122 123 134 135 136 137 138]\n",
      "[  3   4   5   6   7   8   9  10  12  13  14  15  30  31  32  33  34  40\n",
      "  41  42  43  44  50  51  52  53  59  60  61  62  63  64  65  66  67  68\n",
      "  69  70  71  72  73  82  83  84  85  90  91  92  93  99 100 101 102 103\n",
      " 112 113 114 115 131 132 133 134 139 140 141 142]\n",
      "Accuracy = 0.4888888888888889\n",
      "[  0   1   2   3   8  24  25  26  27  28  29  30  31  32  33  34  35  36\n",
      "  37  42  43  44  45  46  47  48  49  50  55  60  61  62  63  64  69  70\n",
      "  71  72  77  78  79  80  85  91  92  93  94  99 100 101 102 103 112 113\n",
      " 114 115 116 117 118 119 124 125 126 127 128 129 130 131 132 133 139 140\n",
      " 141 142 143]\n",
      "[  0   1   2  11  16  17  18  19  20  21  22  23  24  25  26  27  28  29\n",
      "  35  36  37  38  39  45  46  47  48  49  54  55  56  57  58  74  75  76\n",
      "  77  78  79  80  81  86  87  88  89  94  95  96  97  98 104 105 106 107\n",
      " 108 109 110 111 116 117 118 119 120 121 122 123 124 125 126 127 128 129\n",
      " 130 135 136 137 138 143]\n",
      "Accuracy = 0.43790849673202614\n",
      "007\n",
      "[  8   9  10  11  12  13  14  15  16  17  18  19  26  27  28  29  30  40\n",
      "  41  42  43  44  45  46  47  48  49  50  51  52  63  64  65  66  67  68\n",
      "  69  70  85  86  87  88  89  90  91  92  97  98  99 100 106 107 108 109\n",
      " 120 121 122 123 124 125 126 127 128 129 134 135 136 137]\n",
      "[  0   1   2   3   9  10  11  12  13  19  20  21  22  23  24  25  26  35\n",
      "  36  37  38  44  45  46  47  58  59  60  61  62  63  64  65  66  67  68\n",
      "  69  70  89  90  91  92  94  95  96  97 115 116 117 118 119 120 121 122\n",
      " 124 125 126 127 128 129 130 131 132 133 139 140 141 142 143]\n",
      "Accuracy = 0.45255474452554745\n",
      "[  0   1   2   3   4   5   6   7  20  21  22  23  24  25  31  32  33  34\n",
      "  35  36  37  38  39  53  54  55  56  57  58  59  60  61  62  71  72  73\n",
      "  74  75  76  77  78  79  80  81  82  83  84  93  94  95  96 101 102 103\n",
      " 104 105 110 111 112 113 114 115 116 117 118 119 130 131 132 133 138 139\n",
      " 140 141 142 143]\n",
      "[  4   5   6   7   8  14  15  16  17  18  27  28  29  30  31  32  33  34\n",
      "  39  40  41  42  43  48  49  50  51  52  53  54  55  56  57  71  72  73\n",
      "  74  75  76  77  78  79  80  81  82  83  84  85  86  87  88  93  98  99\n",
      " 100 101 102 103 104 105 106 107 108 109 110 111 112 113 114 123 134 135\n",
      " 136 137 138]\n",
      "Accuracy = 0.543046357615894\n",
      "008\n",
      "[  4   5   6   7   8  14  15  16  17  18  19  20  21  28  29  30  31  32\n",
      "  33  34  35  36  42  43  44  45  60  61  62  63  64  65  66  67  81  82\n",
      "  83  84  86  87  88  89  90  91  92  93  99 100 101 102 108 109 110 111\n",
      " 120 121 122 123 134 135 136 137 139 140 141 142 143]\n",
      "[  0   1   2   3   4   5   6   7   8   9  10  11  12  13  14  15  16  17\n",
      "  19  20  21  22  23  24  25  26  40  41  42  43  55  56  57  58  63  64\n",
      "  65  66  76  77  78  79  98  99 100 101 102 103 104 105 106 107 108 109\n",
      " 111 112 113 114 115 116 117 118 119 139 140 141 142 143]\n",
      "Accuracy = 0.5555555555555556\n",
      "[  0   1   2   3   9  10  11  12  13  22  23  24  25  26  27  37  38  39\n",
      "  40  41  46  47  48  49  50  51  52  53  54  55  56  57  58  59  68  69\n",
      "  70  71  72  73  74  75  76  77  78  79  80  85  94  95  96  97  98 103\n",
      " 104 105 106 107 112 113 114 115 116 117 118 119 124 125 126 127 128 129\n",
      " 130 131 132 133 138]\n",
      "[ 18  27  28  29  30  31  32  33  34  35  36  37  38  39  44  45  46  47\n",
      "  48  49  50  51  52  53  54  59  60  61  62  67  68  69  70  71  72  73\n",
      "  74  75  80  81  82  83  84  85  86  87  88  89  90  91  92  93  94  95\n",
      "  96  97 110 120 121 122 123 124 125 126 127 128 129 130 131 132 133 134\n",
      " 135 136 137 138]\n",
      "Accuracy = 0.45751633986928103\n",
      "009\n",
      "[  8   9  10  11  12  13  14  15  17  18  19  20  21  22  23  24  42  43\n",
      "  44  45  46  47  48  49  51  52  53  54  60  61  62  63  74  75  76  77\n",
      "  78  83  84  85  86 106 107 108 109 111 112 113 114 115 120 121 122 123\n",
      " 125 126 127 128 129 130 131 132 133 134 135 136 137 138]\n",
      "[ 18  19  20  21  22  23  24  25  27  28  29  30  31  32  33  34  35  36\n",
      "  37  38  45  46  47  48  49  50  51  52  63  64  65  66  76  77  78  79\n",
      " 104 105 106 107 108 109 110 111 112 113 114 115 116 117 127 128 129 130\n",
      " 131 132 133 134 135 136 137 138]\n",
      "Accuracy = 0.46923076923076923\n",
      "[  0   1   2   3   4   5   6   7  16  25  26  27  28  29  30  31  32  33\n",
      "  34  35  36  37  38  39  40  41  50  55  56  57  58  59  64  65  66  67\n",
      "  68  69  70  71  72  73  79  80  81  82  87  88  89  90  91  92  93  94\n",
      "  95  96  97  98  99 100 101 102 103 104 105 110 116 117 118 119 124 139\n",
      " 140 141 142 143]\n",
      "[  0   1   2   3   4   5   6   7   8   9  10  11  12  13  14  15  16  17\n",
      "  26  39  40  41  42  43  44  53  54  55  56  57  58  59  60  61  62  67\n",
      "  68  69  70  71  72  73  74  75  80  81  82  83  84  85  86  87  88  89\n",
      "  90  91  92  93  94  95  96  97  98  99 100 101 102 103 118 119 120 121\n",
      " 122 123 124 125 126 139 140 141 142 143]\n",
      "Accuracy = 0.5822784810126582\n",
      "010\n",
      "[  9  10  11  12  13  23  24  25  26  27  37  38  39  40  41  42  43  44\n",
      "  45  46  61  62  63  64  65  66  67  68  79  80  81  82  84  85  86  87\n",
      "  88  98  99 100 101 106 107 108 109 110 111 112 113 115 116 117 118 119\n",
      " 120 121 122 127 128 129 130 131 132 133 134 135 136 137 138]\n",
      "[  7   8   9  10  20  21  22  23  28  29  30  31  32  33  34  35  37  38\n",
      "  39  40  41  46  47  48  49  50  51  52  53  55  56  57  58  67  68  69\n",
      "  70  72  73  74  75  76  77  78  79  80  81  82  83  84  91  92  93  94\n",
      "  95 116 117 118 119 120 121 122 123 134 135 136 137]\n",
      "Accuracy = 0.41911764705882354\n",
      "[  0   1   2   3   4   5   6   7   8  14  15  16  17  18  19  20  21  22\n",
      "  28  29  30  31  32  33  34  35  36  47  48  49  50  51  52  53  54  55\n",
      "  56  57  58  59  60  69  70  71  72  73  74  75  76  77  78  83  89  90\n",
      "  91  92  93  94  95  96  97 102 103 104 105 114 123 124 125 126 139 140\n",
      " 141 142 143]\n",
      "[  0   1   2   3   4   5   6  11  12  13  14  15  16  17  18  19  24  25\n",
      "  26  27  36  42  43  44  45  54  59  60  61  62  63  64  65  66  71  85\n",
      "  86  87  88  89  90  96  97  98  99 100 101 102 103 104 105 106 107 108\n",
      " 109 110 111 112 113 114 115 124 125 126 127 128 129 130 131 132 133 138\n",
      " 139 140 141 142 143]\n",
      "Accuracy = 0.506578947368421\n",
      "011\n",
      "[  4   5   6   7  17  18  19  20  22  23  24  25  26  27  28  29  35  36\n",
      "  37  38  39  40  41  42  47  48  49  50  52  53  54  55  65  66  67  68\n",
      "  69  88  89  90  91  92  98  99 100 101 102 103 104 105 106 107 108 109\n",
      " 116 117 118 119 120 125 126 127 128 139 140 141 142 143]\n",
      "[  3   4   5   6  23  24  25  26  31  32  33  34  48  49  50  51  71  72\n",
      "  73  74  75  76  77  78  84  85  86  87  88  89  90  91  93  94  95  96\n",
      "  97 103 104 105 106 107 108 109 110 116 117 118 119 120 121 122 123 134\n",
      " 135 136 137 139 140 141 142 143]\n",
      "Accuracy = 0.46153846153846156\n",
      "[  0   1   2   3   8   9  10  11  12  13  14  15  16  21  30  31  32  33\n",
      "  34  43  44  45  46  51  56  57  58  59  60  61  62  63  64  70  71  72\n",
      "  73  74  75  76  77  78  79  80  81  82  83  84  85  86  87  93  94  95\n",
      "  96  97 110 111 112 113 114 115 121 122 123 124 129 130 131 132 133 134\n",
      " 135 136 137 138]\n",
      "[  0   1   2   7   8   9  10  11  12  13  14  15  16  17  18  19  20  21\n",
      "  22  27  28  29  30  35  36  37  38  39  40  41  42  43  44  45  46  47\n",
      "  52  53  54  55  56  57  58  59  60  61  62  63  64  65  66  67  68  69\n",
      "  70  79  80  81  82  83  92  98  99 100 101 102 111 112 113 114 115 124\n",
      " 125 126 127 128 129 130 131 132 133 138]\n",
      "Accuracy = 0.4936708860759494\n",
      "012\n",
      "[  0   1   2   3   4   5   6   7   8   9  10  11  12  14  15  16  17  18\n",
      "  19  20  21  22  23  24  25  26  27  28  29  30  31  49  50  51  52  53\n",
      "  62  63  64  65  67  68  69  70  71  72  73  74  75  76  77  78  79  80\n",
      "  81  82  83 103 104 105 106 112 113 114 115 121 122 123 124 125]\n",
      "[  8   9  10  11  17  18  19  20  26  27  28  29  30  31  32  33  34  35\n",
      "  36  37  38  39  40  41  42  43  44  45  46  47  53  54  55  56  57  71\n",
      "  72  73  74  84  85  86  87  93  94  95  96  97  98  99 100 101 111 112\n",
      " 113 114 115 125 126 127 128 129 130 131 132 139 140 141 142 143]\n",
      "Accuracy = 0.5285714285714286\n",
      "[ 13  32  33  34  35  36  37  38  39  40  41  42  43  44  45  46  47  48\n",
      "  54  55  56  57  58  59  60  61  66  84  85  86  87  88  89  90  91  92\n",
      "  93  94  95  96  97  98  99 100 101 102 107 108 109 110 111 116 117 118\n",
      " 119 120 126 127 128 129 130 131 132 133 134 135 136 137 138 139 140 141\n",
      " 142 143]\n"
     ]
    },
    {
     "name": "stdout",
     "output_type": "stream",
     "text": [
      "[  0   1   2   3   4   5   6   7  12  13  14  15  16  21  22  23  24  25\n",
      "  48  49  50  51  52  58  59  60  61  62  63  64  65  66  67  68  69  70\n",
      "  75  76  77  78  79  80  81  82  83  88  89  90  91  92 102 103 104 105\n",
      " 106 107 108 109 110 116 117 118 119 120 121 122 123 124 133 134 135 136\n",
      " 137 138]\n",
      "Accuracy = 0.5743243243243243\n",
      "013\n",
      "[  0   1   2   3   4   5   6   7   8   9  10  11  12  13  31  32  33  34\n",
      "  35  36  37  38  48  49  50  51  57  58  59  60  61  62  63  64  75  76\n",
      "  77  78  80  81  82  83  89  90  91  92  93  98  99 100 101 102 103 104\n",
      " 105 116 117 118 119 120 121 122 123 124 125 139 140 141 142]\n",
      "[  4   5   6   7  16  17  18  19  35  36  37  38  39  40  41  42  44  45\n",
      "  46  47  53  54  55  56  57  75  76  77  78  85  86  87  88  89  90  91\n",
      "  92  93  94  95  96  97  98  99 100 101 102 103 104 116 117 118 119 129\n",
      " 130 131 132 139 140 141 142 143]\n",
      "Accuracy = 0.5648854961832062\n",
      "[ 14  15  16  17  18  19  20  21  22  23  24  25  26  27  28  29  30  39\n",
      "  40  41  42  43  44  45  46  47  52  53  54  55  56  65  66  67  68  69\n",
      "  70  71  72  73  74  79  84  85  86  87  88  94  95  96  97 106 107 108\n",
      " 109 110 111 112 113 114 115 126 127 128 129 130 131 132 133 134 135 136\n",
      " 137 138 143]\n",
      "[  0   1   2   3   8   9  10  11  12  13  14  15  20  21  22  23  24  25\n",
      "  26  27  28  29  30  31  32  33  34  43  48  49  50  51  52  58  59  60\n",
      "  61  62  63  64  65  66  67  68  69  70  71  72  73  74  79  80  81  82\n",
      "  83  84 105 106 107 108 109 110 111 112 113 114 115 120 121 122 123 124\n",
      " 125 126 127 128 133 134 135 136 137 138]\n",
      "Accuracy = 0.5095541401273885\n",
      "015\n",
      "[  0   1   2   3   4   5   6   7   8  14  15  16  17  18  28  29  30  31\n",
      "  36  37  38  39  48  49  50  51  56  57  58  59  60  61  62  63  75  76\n",
      "  77  78  83  84  85  86  96  97  98  99 106 107 108 109 115 116 117 118\n",
      " 119 125 126 127 128 129 130 131 132 133 134 135 136 137 138]\n",
      "[  4   5   6   7   8   9  10  11  12  13  39  40  41  42  43  44  45  46\n",
      "  52  53  54  55  61  62  63  64  65  66  67  68  73  74  75  76  83  84\n",
      "  85  86  87  88  89  90 109 110 111 112 113 114 115 116 118 119 120 121\n",
      " 122 123 124 125 126 131 132 133 134 135 136 137 138]\n",
      "Accuracy = 0.4264705882352941\n",
      "[  9  10  11  12  13  19  20  21  22  23  24  25  26  27  32  33  34  35\n",
      "  40  41  42  43  44  45  46  47  52  53  54  55  64  65  66  67  68  69\n",
      "  70  71  72  73  74  79  80  81  82  87  88  89  90  91  92  93  94  95\n",
      " 100 101 102 103 104 105 110 111 112 113 114 120 121 122 123 124 139 140\n",
      " 141 142 143]\n",
      "[  0   1   2   3  14  15  16  17  18  19  20  21  22  23  24  25  26  27\n",
      "  28  29  30  31  32  33  34  35  36  37  38  47  48  49  50  51  56  57\n",
      "  58  59  60  69  70  71  72  77  78  79  80  81  82  91  92  93  94  95\n",
      "  96  97  98  99 100 101 102 103 104 105 106 107 108 117 127 128 129 130\n",
      " 139 140 141 142 143]\n",
      "Accuracy = 0.5131578947368421\n",
      "017\n",
      "[  3   4   5   6   8   9  10  11  34  35  36  37  38  39  40  41  42  43\n",
      "  44  45  65  66  67  68  69  70  71  72  87  88  89  90  91  92  93  94\n",
      "  95  96 105 106 107 108 110 111 112 113 114 115 116 117 118 119 125 126\n",
      " 127 128 129 130 131 132 134 135 136 137 138 139 140 141 142 143]\n",
      "[  9  10  11  12  19  20  21  22  23  24  25  26  28  29  30  31  32  33\n",
      "  34  35  36  37  38  39  40  51  52  53  54  60  61  62  63  64  65  66\n",
      "  67  72  73  74  75  95  96  97  98 100 101 102 103 104 105 106 107 117\n",
      " 118 119 120 131 132 133 134 135 136 137 138]\n",
      "Accuracy = 0.5481481481481482\n",
      "[  0   1   2   7  12  13  14  15  16  17  18  19  20  21  22  23  24  25\n",
      "  26  27  28  29  30  31  32  33  46  47  48  49  50  51  52  53  54  55\n",
      "  56  57  58  59  60  61  62  63  64  73  74  75  76  77  78  79  80  81\n",
      "  82  83  84  85  86  97  98  99 100 101 102 103 104 109 120 121 122 123\n",
      " 124 133]\n",
      "[  0   1   2   3   4   5   6   7   8  13  14  15  16  17  18  27  41  42\n",
      "  43  44  45  46  47  48  49  50  55  56  57  58  59  68  69  70  71  76\n",
      "  77  78  79  80  81  82  83  84  85  86  87  88  89  90  91  92  93  94\n",
      "  99 108 109 110 111 112 113 114 115 116 121 122 123 124 125 126 127 128\n",
      " 129 130 139 140 141 142 143]\n",
      "Accuracy = 0.5490196078431373\n",
      "018\n",
      "[  3   4   5   6  25  26  27  28  30  31  32  33  67  68  69  70  71  72\n",
      "  73  74  75  76  77  78  79  80  81  87  88  89  90  91  92  93  94  99\n",
      " 100 101 102 108 109 110 111 112 113 114 115 116 117 122 123 124 125 126\n",
      " 127 128 129 131 132 133 134 135 136 137 138 139 140 141 142]\n",
      "[  0   1   2   3  13  14  15  16  18  19  20  21  22  31  32  33  34  36\n",
      "  37  38  39  40  41  42  43  58  59  60  61  62  73  74  75  76  86  87\n",
      "  88  89  96  97  98  99 100 101 102 103 105 106 107 108 109 110 111 112\n",
      " 113 114 115 116 117 130 131 132 133 139 140 141 142 143]\n",
      "Accuracy = 0.583941605839416\n",
      "[  0   1   2   7   8   9  10  11  12  13  14  15  16  17  18  19  20  21\n",
      "  22  23  24  29  34  35  36  37  38  39  40  41  42  43  44  45  46  47\n",
      "  48  49  50  51  52  53  54  55  56  57  58  59  60  61  62  63  64  65\n",
      "  66  82  83  84  85  86  95  96  97  98 103 104 105 106 107 118 119 120\n",
      " 121 130 143]\n",
      "[  4   5   6   7   8   9  10  11  12  17  23  24  25  26  27  28  29  30\n",
      "  35  44  45  46  47  48  49  50  51  52  53  54  55  56  57  63  64  65\n",
      "  66  67  68  69  70  71  72  77  78  79  80  81  82  83  84  85  90  91\n",
      "  92  93  94  95 104 118 119 120 121 122 123 124 125 126 127 128 129 134\n",
      " 135 136 137 138]\n",
      "Accuracy = 0.543046357615894\n",
      "020\n",
      "[  4   5   6   7   8   9  10  11  12  13  14  15  16  17  18  23  24  25\n",
      "  26  27  28  29  30  32  33  34  35  36  37  38  39  40  41  42  43  44\n",
      "  59  60  61  62  63  64  65  66  67  68  69  70  71  72  73  74  94  95\n",
      "  96  97 107 108 109 110 120 121 122 123 134 135 136 137 138]\n",
      "[ 22  23  24  25  31  32  33  34  35  36  37  38  39  49  50  51  52  53\n",
      "  62  63  64  65  67  68  69  70  71  72  73  74  76  77  78  79  80  89\n",
      "  90  91  92  97  98  99 100 102 103 104 105 106 107 108 109 110 125 126\n",
      " 127 128 129 130 131 132 133 134 139 140 141 142]\n",
      "Accuracy = 0.48148148148148145\n",
      "[  0   1   2   3  19  20  21  22  31  45  46  47  48  49  50  51  52  53\n",
      "  54  55  56  57  58  75  76  77  78  79  80  81  82  83  84  85  86  87\n",
      "  88  89  90  91  92  93  98  99 100 101 102 103 104 105 106 111 112 113\n",
      " 114 115 116 117 118 119 124 125 126 127 128 129 130 131 132 133 139 140\n",
      " 141 142 143]\n",
      "[  0   1   2   3   4   5   6   7   8   9  10  11  12  13  14  15  16  17\n",
      "  18  19  20  21  26  27  28  29  30  40  41  42  43  44  45  46  47  48\n",
      "  54  55  56  57  58  59  60  61  66  75  81  82  83  84  85  86  87  88\n",
      "  93  94  95  96 101 111 112 113 114 115 116 117 118 119 120 121 122 123\n",
      " 124 135 136 137 138 143]\n",
      "Accuracy = 0.49019607843137253\n",
      "022\n",
      "[  9  10  11  12  13  14  15  16  31  32  33  34  35  36  37  38  39  40\n",
      "  41  42  67  68  69  70  76  77  78  79  80  81  82  83  85  86  87  88\n",
      "  89  90  91  92  93  94  95  96 108 109 110 111 112 113 114 115 130 131\n",
      " 132 133 139 140 141 142 143]\n",
      "[  0   1   2   3   4   5   6   7  17  18  19  20  21  22  23  24  25  26\n",
      "  27  28  29  34  35  36  37  38  39  40  41  57  58  59  60  61  62  63\n",
      "  64  80  81  82  83  84  89  90  91  92  93  94  95  96  98  99 100 101\n",
      " 102 126 127 128 129 134 135 136 137 139 140 141 142 143]\n",
      "Accuracy = 0.4496124031007752\n",
      "[  0   1   2   3   4   5   6   7   8  17  18  19  20  21  22  23  24  25\n",
      "  26  27  28  29  30  43  44  45  46  47  48  49  50  51  52  53  54  55\n",
      "  56  57  58  59  60  61  62  63  64  65  66  71  72  73  74  75  84  97\n",
      "  98  99 100 101 102 103 104 105 106 107 116 117 118 119 120 121 122 123\n",
      " 124 125 126 127 128 129 134 135 136 137 138]\n",
      "[  8   9  10  11  12  13  14  15  16  30  31  32  33  42  43  44  45  46\n",
      "  47  48  49  50  51  52  53  54  55  56  65  66  67  68  69  70  71  72\n",
      "  73  74  75  76  77  78  79  85  86  87  88  97 103 104 105 106 107 108\n",
      " 109 110 111 112 113 114 115 116 117 118 119 120 121 122 123 124 125 130\n",
      " 131 132 133 138]\n",
      "Accuracy = 0.4025157232704403\n",
      "023\n",
      "[ 13  14  15  16  17  26  27  28  29  35  36  37  38  39  40  41  42  52\n",
      "  53  54  55  70  71  72  73  74  85  86  87  88  89  90  91  92  93  94\n",
      " 100 101 102 103 104 105 106 107 108 109 110 111 112 113 114 115 116 117\n",
      " 127 128 129 130 131 132 133 134 135 136 137 138]\n",
      "[  9  10  11  12  23  24  25  26  27  28  29  30  31  32  33  34  35  36\n",
      "  37  38  39  40  41  42  43  44  45  46  47  48  49  50  51  52  53  63\n",
      "  64  65  66  77  78  79  80  92  93  94  95 100 101 102 103 113 114 115\n",
      " 116 117 118 119 120 122 123 124 125 126 127 128 129]\n"
     ]
    },
    {
     "name": "stdout",
     "output_type": "stream",
     "text": [
      "Accuracy = 0.5488721804511278\n",
      "[  0   1   2   3   4   5   6   7   8   9  10  11  12  18  19  20  21  22\n",
      "  23  24  25  30  31  32  33  34  43  44  45  46  47  48  49  50  51  56\n",
      "  57  58  59  60  61  62  63  64  65  66  67  68  69  75  76  77  78  79\n",
      "  80  81  82  83  84  95  96  97  98  99 118 119 120 121 122 123 124 125\n",
      " 126 139 140 141 142 143]\n",
      "[  0   1   2   3   4   5   6   7   8  13  14  15  16  17  18  19  20  21\n",
      "  22  54  55  56  57  58  59  60  61  62  67  68  69  70  71  72  73  74\n",
      "  75  76  81  82  83  84  85  86  87  88  89  90  91  96  97  98  99 104\n",
      " 105 106 107 108 109 110 111 112 121 130 131 132 133 134 135 136 137 138\n",
      " 139 140 141 142 143]\n",
      "Accuracy = 0.5870967741935483\n",
      "024\n",
      "[  4   5   6   7  17  18  19  20  27  28  29  30  31  32  33  34  35  36\n",
      "  46  47  48  49  50  51  52  53  54  55  56  57  58  59  64  65  66  67\n",
      "  69  70  71  72  81  82  83  84  95  96  97  98 108 109 110 111 112 113\n",
      " 114 115 117 118 119 120 121 131 132 133 134 139 140 141 142]\n",
      "[  0   1   2   3   4   5   6   7  17  18  19  20  21  22  23  24  25  26\n",
      "  27  28  30  31  32  33  34  35  36  37  38  39  40  41  50  51  52  53\n",
      "  60  61  62  63  64  70  71  72  73  74  75  76  77  78  79  80  81  82\n",
      "  87  88  89  90  92  93  94  95  96 125 126 127 128]\n",
      "Accuracy = 0.5441176470588235\n",
      "[  0   1   2   3   8   9  10  11  12  13  14  15  16  21  22  23  24  25\n",
      "  26  37  38  39  40  41  42  43  44  45  60  61  62  63  68  73  74  75\n",
      "  76  77  78  79  80  85  86  87  88  89  90  91  92  93  94  99 100 101\n",
      " 102 103 104 105 106 107 116 122 123 124 125 126 127 128 129 130 135 136\n",
      " 137 138 143]\n",
      "[  8   9  10  11  12  13  14  15  16  29  42  43  44  45  46  47  48  49\n",
      "  54  55  56  57  58  59  65  66  67  68  69  83  84  85  86  91  97  98\n",
      "  99 100 101 102 103 104 105 106 107 108 109 110 111 112 113 114 115 116\n",
      " 117 118 119 120 121 122 123 124 129 130 131 132 133 134 135 136 137 138\n",
      " 139 140 141 142 143]\n",
      "Accuracy = 0.5328947368421053\n",
      "mean roc auc for generalization + exceptions before learning 0.5006842744026718\n",
      "roc auc [0.55 0.45 0.43 0.55 0.41 0.36 0.47 0.56 0.63 0.41 0.54 0.63 0.45 0.47\n",
      " 0.56 0.55]\n",
      "mean roc auc for baseline before learning 0.5166975925145616\n",
      "roc auc [0.47 0.43 0.53 0.45 0.63 0.48 0.5  0.61 0.54 0.51 0.55 0.58 0.45 0.37\n",
      " 0.62 0.54]\n"
     ]
    }
   ],
   "source": [
    "#check classifier performance on iagine runs\n",
    "#train on localizer, test on imagine runs \n",
    "#split by g+e and baseline\n",
    "\n",
    "localizer_runs = np.array([10,11,12])\n",
    "imagine_runs = np.array([4,5])\n",
    "\n",
    "roc_auc_all_before = np.zeros((len(sub_list),2))\n",
    "\n",
    "for eachSubj in range(len(sub_list)):\n",
    "    subNum = sub_list[eachSubj]\n",
    "    print(subNum)\n",
    "    \n",
    "    for eachRun in range(n_runs_localizer):\n",
    "        thisRun = localizer_runs[eachRun]\n",
    "        thisBold = getBold(subNum,thisRun,'localizer','bilateral_oc-temp')\n",
    "        \n",
    "        if eachRun==0:\n",
    "            trainBold = thisBold\n",
    "        else:\n",
    "            trainBold = np.vstack((trainBold,thisBold))\n",
    "\n",
    "        thisLabel = getLabel(subNum,thisRun,'localizer')\n",
    "        \n",
    "        if eachRun==0:\n",
    "            trainLabel = thisLabel\n",
    "        else:\n",
    "            trainLabel = np.vstack((trainLabel,thisLabel))\n",
    "            \n",
    "    trainLabel = binarize(trainLabel,'faces')\n",
    "    \n",
    "    for eachGr in range(2):\n",
    "               \n",
    "        for eachRun in range(n_runs_imagine):\n",
    "            thisRun = imagine_runs[eachRun]\n",
    "            thisBold = getBold(subNum,thisRun,'imagine','bilateral_oc-temp')\n",
    "            #print('thisBold')\n",
    "            #print(thisBold.shape)\n",
    "            \n",
    "            group = getGroup(subNum,thisRun)\n",
    "            \n",
    "            if eachGr == 0:\n",
    "                thisGr = np.where(group[:] >= 3)[0]\n",
    "            if eachGr == 1:\n",
    "                thisGr = np.where(group[:] <= 2)[0]\n",
    "            print(thisGr)\n",
    "            \n",
    "            thisBold = thisBold[thisGr,:]\n",
    "\n",
    "            if eachRun==0:\n",
    "                testBold = thisBold\n",
    "            else:\n",
    "                testBold = np.vstack((testBold,thisBold))\n",
    "\n",
    "            thisLabel = getLabel(subNum,thisRun,'imagine')\n",
    "            thisLabel = thisLabel[thisGr]\n",
    "    \n",
    "            if eachRun==0:\n",
    "                testLabel = thisLabel\n",
    "            else:\n",
    "                testLabel = np.vstack((testLabel,thisLabel))\n",
    "            \n",
    "        testLabel = binarize(testLabel,'faces')\n",
    "        \n",
    "        #print('trainBold',trainBold.shape)\n",
    "        #print('trainLabel',trainLabel.shape)\n",
    "        #print('testBold',testBold.shape)\n",
    "        #print('testLabel',testLabel.shape)\n",
    "\n",
    "        score, prediction, prediction_prob = classifier(trainBold,trainLabel,testBold,testLabel,model_linReg_1,1)\n",
    "        #print(prediction_prob[:5,:])\n",
    "\n",
    "        y_true = np.ravel(testLabel)\n",
    "        y_true = list(y_true)\n",
    "        #print(y_true)\n",
    "\n",
    "        y_score = prediction_prob[:,1]\n",
    "        #print(y_score)\n",
    "\n",
    "        if eachSubj == 0:\n",
    "            roc_auc = calc_auc(y_true,y_score,1)\n",
    "            roc_auc_all_before[eachSubj,eachGr] = roc_auc\n",
    "        else:\n",
    "            roc_auc = calc_auc(y_true,y_score,0)\n",
    "            roc_auc_all_before[eachSubj,eachGr] = roc_auc\n",
    "\n",
    "mean_roc_auc_gr0_before = sum(roc_auc_all_before[:,0])/len(sub_list)\n",
    "mean_roc_auc_gr1_before = sum(roc_auc_all_before[:,1])/len(sub_list)\n",
    "\n",
    "print('mean roc auc for generalization + exceptions before learning', mean_roc_auc_gr0_before)\n",
    "print('roc auc',roc_auc_all_before[:,0])\n",
    "\n",
    "print('mean roc auc for baseline before learning', mean_roc_auc_gr1_before)\n",
    "print('roc auc',roc_auc_all_before[:,1])"
   ]
  },
  {
   "cell_type": "code",
   "execution_count": 13,
   "id": "cc9cafed",
   "metadata": {},
   "outputs": [
    {
     "name": "stdout",
     "output_type": "stream",
     "text": [
      "test against chance - before learning, g vs e\n"
     ]
    },
    {
     "data": {
      "text/plain": [
       "Ttest_1sampResult(statistic=0.03376205988215368, pvalue=0.9735120656695417)"
      ]
     },
     "execution_count": 13,
     "metadata": {},
     "output_type": "execute_result"
    }
   ],
   "source": [
    "print('test against chance - before learning, g vs e')\n",
    "stats.ttest_1samp(a=roc_auc_all_before[:,0], popmean=0.5)"
   ]
  },
  {
   "cell_type": "code",
   "execution_count": 14,
   "id": "440083ca",
   "metadata": {},
   "outputs": [
    {
     "name": "stdout",
     "output_type": "stream",
     "text": [
      "test against chance - before learning, b vs b\n"
     ]
    },
    {
     "data": {
      "text/plain": [
       "Ttest_1sampResult(statistic=0.9017092192737933, pvalue=0.3814622162170561)"
      ]
     },
     "execution_count": 14,
     "metadata": {},
     "output_type": "execute_result"
    }
   ],
   "source": [
    "print('test against chance - before learning, b vs b')\n",
    "stats.ttest_1samp(a=roc_auc_all_before[:,1], popmean=0.5)"
   ]
  },
  {
   "cell_type": "code",
   "execution_count": 15,
   "id": "a1e08257",
   "metadata": {},
   "outputs": [
    {
     "name": "stdout",
     "output_type": "stream",
     "text": [
      "difference in roc before learning\n",
      "[ 0.08  0.02 -0.1   0.09 -0.22 -0.12 -0.04 -0.05  0.09 -0.1  -0.01  0.05\n",
      "  0.    0.1  -0.06  0.01]\n"
     ]
    }
   ],
   "source": [
    "roc_diff_before = roc_auc_all_before[:,0] - roc_auc_all_before[:,1]\n",
    "print('difference in roc before learning')\n",
    "print(roc_diff_before)"
   ]
  },
  {
   "cell_type": "code",
   "execution_count": 16,
   "id": "24b0e747",
   "metadata": {},
   "outputs": [
    {
     "name": "stdout",
     "output_type": "stream",
     "text": [
      "before learning, is g+e different from b?\n"
     ]
    },
    {
     "data": {
      "text/plain": [
       "Ttest_1sampResult(statistic=-0.7058422138508921, pvalue=0.49110418396763833)"
      ]
     },
     "execution_count": 16,
     "metadata": {},
     "output_type": "execute_result"
    }
   ],
   "source": [
    "print('before learning, is g+e different from b?')\n",
    "stats.ttest_1samp(a=roc_diff_before, popmean=0)"
   ]
  },
  {
   "cell_type": "code",
   "execution_count": 14,
   "id": "d87cf035",
   "metadata": {},
   "outputs": [
    {
     "name": "stdout",
     "output_type": "stream",
     "text": [
      "is learning score different from 0 for g+e\n"
     ]
    },
    {
     "data": {
      "text/plain": [
       "Ttest_1sampResult(statistic=-3.8685766197407747, pvalue=0.001515342961136116)"
      ]
     },
     "execution_count": 14,
     "metadata": {},
     "output_type": "execute_result"
    }
   ],
   "source": [
    "roc_learning_ge = roc_auc_all_before[:,0] - roc_auc_all[:,0]\n",
    "print('is learning score different from 0 for g+e')\n",
    "stats.ttest_1samp(a=roc_learning_ge, popmean=0)\n",
    "#print(np.mean(roc_learning_ge))"
   ]
  },
  {
   "cell_type": "code",
   "execution_count": 22,
   "id": "50f6d387",
   "metadata": {},
   "outputs": [
    {
     "name": "stdout",
     "output_type": "stream",
     "text": [
      "is learning score different from 0 for baseline\n",
      "-0.04118076477627161\n"
     ]
    }
   ],
   "source": [
    "roc_learning_b = roc_auc_all_before[:,1] - roc_auc_all[:,1]\n",
    "print('is learning score different from 0 for baseline')\n",
    "stats.ttest_1samp(a=roc_learning_b, popmean=0)\n",
    "print(np.mean(roc_learning_b))"
   ]
  },
  {
   "cell_type": "code",
   "execution_count": 19,
   "id": "a8dc7d3d",
   "metadata": {},
   "outputs": [
    {
     "name": "stdout",
     "output_type": "stream",
     "text": [
      "is learning score different between g+e and baseline\n"
     ]
    },
    {
     "data": {
      "text/plain": [
       "Ttest_1sampResult(statistic=-1.2669342458568496, pvalue=0.22449743965973856)"
      ]
     },
     "execution_count": 19,
     "metadata": {},
     "output_type": "execute_result"
    }
   ],
   "source": [
    "learning_diff = roc_learning_ge - roc_learning_b\n",
    "print('is learning score different between g+e and baseline')\n",
    "stats.ttest_1samp(a=learning_diff, popmean=0)"
   ]
  },
  {
   "cell_type": "code",
   "execution_count": 21,
   "id": "cbcbbf28",
   "metadata": {},
   "outputs": [
    {
     "name": "stdout",
     "output_type": "stream",
     "text": [
      "005\n",
      "Accuracy = 0.5138888888888888\n"
     ]
    },
    {
     "data": {
      "image/png": "[encoded data removed]",
      "text/plain": [
       "<Figure size 432x288 with 1 Axes>"
      ]
     },
     "metadata": {
      "needs_background": "light"
     },
     "output_type": "display_data"
    },
    {
     "name": "stdout",
     "output_type": "stream",
     "text": [
      "Accuracy = 0.4930555555555556\n",
      "006\n",
      "Accuracy = 0.5138888888888888\n",
      "Accuracy = 0.5\n",
      "007\n",
      "Accuracy = 0.49537037037037035\n",
      "Accuracy = 0.5069444444444444\n",
      "008\n",
      "Accuracy = 0.5370370370370371\n",
      "Accuracy = 0.4444444444444444\n",
      "009\n",
      "Accuracy = 0.4398148148148148\n",
      "Accuracy = 0.4305555555555556\n",
      "010\n",
      "Accuracy = 0.44907407407407407\n",
      "Accuracy = 0.4097222222222222\n",
      "011\n",
      "Accuracy = 0.4861111111111111\n",
      "Accuracy = 0.4722222222222222\n",
      "012\n",
      "Accuracy = 0.5231481481481481\n",
      "Accuracy = 0.5347222222222222\n",
      "013\n",
      "Accuracy = 0.5\n",
      "Accuracy = 0.4652777777777778\n",
      "015\n",
      "Accuracy = 0.44907407407407407\n",
      "Accuracy = 0.4652777777777778\n",
      "017\n",
      "Accuracy = 0.49537037037037035\n",
      "Accuracy = 0.4930555555555556\n",
      "018\n",
      "Accuracy = 0.4537037037037037\n",
      "Accuracy = 0.4861111111111111\n",
      "019\n",
      "Accuracy = 0.5277777777777778\n",
      "Accuracy = 0.5277777777777778\n",
      "020\n",
      "Accuracy = 0.4398148148148148\n",
      "Accuracy = 0.4861111111111111\n",
      "022\n",
      "Accuracy = 0.47685185185185186\n",
      "Accuracy = 0.5416666666666666\n",
      "023\n",
      "Accuracy = 0.4398148148148148\n",
      "Accuracy = 0.5069444444444444\n",
      "mean roc auc 0.48314004992054266\n"
     ]
    }
   ],
   "source": [
    "#check classifier performance on iagine runs\n",
    "#train on 1 imagine run, test on other imagine run\n",
    "\n",
    "folds = np.array([[8,9],[9,8]])\n",
    "\n",
    "for eachSubj in range(len(sub_list)):\n",
    "    subNum = sub_list[eachSubj]\n",
    "    print(subNum)\n",
    "       \n",
    "    for eachFold in range(2):\n",
    "        \n",
    "        trainRun = folds[eachFold, 0]\n",
    "        \n",
    "        trainBold = getBold(subNum,trainRun,'imagine','bilateral_hippo')\n",
    "        \n",
    "        trainLabel = getLabel(subNum,trainRun,'imagine')\n",
    "        trainLabel = binarize(trainLabel,'faces')\n",
    "        \n",
    "        testRun = folds[eachFold, 1]\n",
    "        \n",
    "        testBold = getBold(subNum,testRun,'imagine','bilateral_hippo')\n",
    "        \n",
    "        testLabel = getLabel(subNum,testRun,'imagine')\n",
    "        testLabel = binarize(testLabel,'faces')\n",
    "        \n",
    "        #print('trainBold',trainBold.shape)\n",
    "        #print('trainLabel',trainLabel.shape)\n",
    "        #print('testBold',testBold.shape)\n",
    "        #print('testLabel',testLabel.shape)\n",
    "        \n",
    "        score, prediction, prediction_prob = classifier(trainBold,trainLabel,testBold,testLabel,model_linReg_1,1)\n",
    "        #print(prediction_prob[:5,:])\n",
    "\n",
    "        y_true = np.ravel(testLabel)\n",
    "        y_true = list(y_true)\n",
    "        #print(y_true)\n",
    "\n",
    "        y_score = prediction_prob[:,1]\n",
    "        #print(y_score)\n",
    "        \n",
    "        if eachSubj == 0 and eachFold == 0:\n",
    "            roc_auc = calc_auc(y_true,y_score,1)\n",
    "            roc_auc_sum = roc_auc\n",
    "        else:\n",
    "            roc_auc = calc_auc(y_true,y_score,0)\n",
    "            roc_auc_sum = roc_auc_sum + roc_auc\n",
    "\n",
    "mean_roc_auc = roc_auc_sum/(2*len(sub_list))\n",
    "print('mean roc auc', mean_roc_auc)"
   ]
  },
  {
   "cell_type": "code",
   "execution_count": null,
   "id": "a898291d",
   "metadata": {},
   "outputs": [],
   "source": []
  }
 ],
 "metadata": {
  "kernelspec": {
   "display_name": "Python 3",
   "language": "python",
   "name": "python3"
  },
  "language_info": {
   "codemirror_mode": {
    "name": "ipython",
    "version": 3
   },
   "file_extension": ".py",
   "mimetype": "text/x-python",
   "name": "python",
   "nbconvert_exporter": "python",
   "pygments_lexer": "ipython3",
   "version": "3.9.10"
  }
 },
 "nbformat": 4,
 "nbformat_minor": 5
}
